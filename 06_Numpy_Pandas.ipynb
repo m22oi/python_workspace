{
  "nbformat": 4,
  "nbformat_minor": 0,
  "metadata": {
    "colab": {
      "provenance": [],
      "toc_visible": true
    },
    "kernelspec": {
      "name": "python3",
      "display_name": "Python 3"
    },
    "language_info": {
      "name": "python"
    }
  },
  "cells": [
    {
      "cell_type": "markdown",
      "metadata": {
        "id": "_SfA-8tnVpEV"
      },
      "source": [
        "## 넘파이(Numpy)"
      ]
    },
    {
      "cell_type": "markdown",
      "metadata": {
        "id": "XMUNNk3D0NqL"
      },
      "source": [
        "### 넘파이 import\n",
        "- 외부 패키지이므로 설치하여 사용하여야 하지만 colab에는 기본적으로 설치가 되어있기 때문에 설치할 필요 없이 사용 가능하다.\n",
        "- numpy는 관용적으로 np라는 별칭을 사용한다.\n",
        "\n"
      ]
    },
    {
      "cell_type": "code",
      "metadata": {
        "id": "x5KwjMTpVAvy"
      },
      "source": [],
      "execution_count": null,
      "outputs": []
    },
    {
      "cell_type": "markdown",
      "metadata": {
        "id": "T0lV8kuGYTkg"
      },
      "source": [
        "### 직접 원소를 입력해서 다차원 배열 생성하기\n",
        "- np.array(리스트)"
      ]
    },
    {
      "cell_type": "markdown",
      "metadata": {
        "id": "VCNgKGDuCJSM"
      },
      "source": [
        "##### 정수형\n",
        "- 정수형의 default data type은 'int64'이다.\n",
        "- 운영체제에 따라 달라질 수 있다."
      ]
    },
    {
      "cell_type": "code",
      "metadata": {
        "id": "QPVhK1XvB6sH"
      },
      "source": [],
      "execution_count": null,
      "outputs": []
    },
    {
      "cell_type": "code",
      "metadata": {
        "id": "_0m-Jv15B_ha"
      },
      "source": [],
      "execution_count": null,
      "outputs": []
    },
    {
      "cell_type": "code",
      "metadata": {
        "id": "XynD9eUOB_Zf"
      },
      "source": [
        "\n"
      ],
      "execution_count": null,
      "outputs": []
    },
    {
      "cell_type": "markdown",
      "metadata": {
        "id": "9H0yDDqMB0fu"
      },
      "source": [
        "##### 실수형"
      ]
    },
    {
      "cell_type": "code",
      "metadata": {
        "id": "ZlMmubOcCQbV"
      },
      "source": [
        "\n"
      ],
      "execution_count": null,
      "outputs": []
    },
    {
      "cell_type": "code",
      "metadata": {
        "id": "9Yi94xAtCQYJ"
      },
      "source": [],
      "execution_count": null,
      "outputs": []
    },
    {
      "cell_type": "markdown",
      "metadata": {
        "id": "S_Y-gNuIby2_"
      },
      "source": [
        "##### 여러 데이터형이 섞여서 들어가더라도 한 가지 데이터형으로 통일된다."
      ]
    },
    {
      "cell_type": "code",
      "metadata": {
        "id": "uU2xFYGNb5Hb"
      },
      "source": [
        "\n",
        "\n"
      ],
      "execution_count": null,
      "outputs": []
    },
    {
      "cell_type": "code",
      "metadata": {
        "id": "f3kSavMtcEDD"
      },
      "source": [
        "\n"
      ],
      "execution_count": null,
      "outputs": []
    },
    {
      "cell_type": "markdown",
      "metadata": {
        "id": "6vCAOKxQff59"
      },
      "source": [
        "### 범위를 지정하여 다차원 배열 생성\n",
        "- np.arange(start, stop, step)"
      ]
    },
    {
      "cell_type": "code",
      "metadata": {
        "id": "-iywFNpQcmQL"
      },
      "source": [],
      "execution_count": null,
      "outputs": []
    },
    {
      "cell_type": "code",
      "metadata": {
        "id": "TgdmqlaDfx4r"
      },
      "source": [],
      "execution_count": null,
      "outputs": []
    },
    {
      "cell_type": "code",
      "metadata": {
        "id": "-jusYGg3f-T8"
      },
      "source": [],
      "execution_count": null,
      "outputs": []
    },
    {
      "cell_type": "markdown",
      "metadata": {
        "id": "j1SePIRVkh1H"
      },
      "source": [
        "### 2차원 배열"
      ]
    },
    {
      "cell_type": "code",
      "metadata": {
        "id": "k7rrAsbdklG-"
      },
      "source": [],
      "execution_count": null,
      "outputs": []
    },
    {
      "cell_type": "markdown",
      "metadata": {
        "id": "1f0-4snMlCoF"
      },
      "source": [
        "### 3차원 배열"
      ]
    },
    {
      "cell_type": "code",
      "metadata": {
        "id": "46Z6uJUAlF9_"
      },
      "source": [],
      "execution_count": null,
      "outputs": []
    },
    {
      "cell_type": "markdown",
      "metadata": {
        "id": "Omn1ECZRmTWz"
      },
      "source": [
        "### 배열의 차원과 크기 알아보기\n",
        "- 차원 : 배열명.ndim\n",
        "- 크기 : 배열명.shape"
      ]
    },
    {
      "cell_type": "code",
      "metadata": {
        "id": "-Yqot6womRWM"
      },
      "source": [
        "\n"
      ],
      "execution_count": null,
      "outputs": []
    },
    {
      "cell_type": "code",
      "metadata": {
        "id": "HNMnTOSJnD4r"
      },
      "source": [
        "\n",
        "\n"
      ],
      "execution_count": null,
      "outputs": []
    },
    {
      "cell_type": "code",
      "metadata": {
        "id": "ciSvfYyanO9-"
      },
      "source": [
        "\n"
      ],
      "execution_count": null,
      "outputs": []
    },
    {
      "cell_type": "code",
      "metadata": {
        "id": "wj7qUCKGnWsD"
      },
      "source": [
        "\n"
      ],
      "execution_count": null,
      "outputs": []
    },
    {
      "cell_type": "markdown",
      "metadata": {
        "id": "sIBcKnGwpZIH"
      },
      "source": [
        "### 배열의 차원 변경\n",
        "- 배열명.reshape(크기)"
      ]
    },
    {
      "cell_type": "code",
      "metadata": {
        "id": "ssbs_UdQpx1m"
      },
      "source": [
        "\n",
        "\n"
      ],
      "execution_count": null,
      "outputs": []
    },
    {
      "cell_type": "code",
      "metadata": {
        "id": "Kbpi5IL2qbFX"
      },
      "source": [
        "\n",
        "\n"
      ],
      "execution_count": null,
      "outputs": []
    },
    {
      "cell_type": "code",
      "metadata": {
        "id": "-COqCdibqgGf"
      },
      "source": [
        "\n",
        "\n"
      ],
      "execution_count": null,
      "outputs": []
    },
    {
      "cell_type": "markdown",
      "metadata": {
        "id": "27fpznlzipEj"
      },
      "source": [
        "### 연산\n",
        "- shape이 같은 넘파이 배열간의 연산 가능"
      ]
    },
    {
      "cell_type": "code",
      "metadata": {
        "id": "i4Y89CwQixTK"
      },
      "source": [],
      "execution_count": null,
      "outputs": []
    },
    {
      "cell_type": "markdown",
      "metadata": {
        "id": "m-JrfvXZjc-V"
      },
      "source": [
        "-   백터화 연산 : 모든 요소에 일괄적으로 연산이 적용된다."
      ]
    },
    {
      "cell_type": "code",
      "metadata": {
        "id": "UvQL1us6iwK_"
      },
      "source": [],
      "execution_count": null,
      "outputs": []
    },
    {
      "cell_type": "markdown",
      "metadata": {
        "id": "nzwhRArAt2e6"
      },
      "source": [
        "###  범위를 지정하고 개수만큼 요소를 갖는 넘파이 배열 생성"
      ]
    },
    {
      "cell_type": "code",
      "metadata": {
        "id": "SxbAiTFsjqwY"
      },
      "source": [
        "\n"
      ],
      "execution_count": null,
      "outputs": []
    },
    {
      "cell_type": "code",
      "metadata": {
        "id": "JZullOiBuBzG"
      },
      "source": [
        "\n"
      ],
      "execution_count": null,
      "outputs": []
    },
    {
      "cell_type": "markdown",
      "metadata": {
        "id": "FKfV-gcOvgDE"
      },
      "source": [
        "### 특별한 형태의 배열 생성\n",
        "- np.zeros()\n",
        "- np.ones()\n",
        "- np.eye()"
      ]
    },
    {
      "cell_type": "code",
      "metadata": {
        "id": "P-tE6urdul_N"
      },
      "source": [
        "\n"
      ],
      "execution_count": null,
      "outputs": []
    },
    {
      "cell_type": "code",
      "metadata": {
        "id": "oeZcxG83vsmh"
      },
      "source": [
        "\n"
      ],
      "execution_count": null,
      "outputs": []
    },
    {
      "cell_type": "code",
      "metadata": {
        "id": "U009nGZkv5Q6"
      },
      "source": [
        "\n"
      ],
      "execution_count": null,
      "outputs": []
    },
    {
      "cell_type": "code",
      "metadata": {
        "id": "qTcnj2QvweOA"
      },
      "source": [
        "\n"
      ],
      "execution_count": null,
      "outputs": []
    },
    {
      "cell_type": "markdown",
      "metadata": {
        "id": "yzifbuPkBDtM"
      },
      "source": [
        "## 판다스(Pandas)"
      ]
    },
    {
      "cell_type": "markdown",
      "metadata": {
        "id": "aH4W7Kx5lgvI"
      },
      "source": [
        "### 판다스 import\n",
        "- 외부 패키지이므로 설치하여 사용하여야 하지만 colab에는 기본적으로 설치가 되어있기 때문에 설치할 필요 없이 사용 가능하다.\n",
        "- pandas는 관용적으로 pd라는 별칭을 사용한다."
      ]
    },
    {
      "cell_type": "code",
      "metadata": {
        "id": "RAf7x8PVlgvI"
      },
      "source": [],
      "execution_count": null,
      "outputs": []
    },
    {
      "cell_type": "markdown",
      "metadata": {
        "id": "xayFuwujlgvI"
      },
      "source": [
        "### 시리즈"
      ]
    },
    {
      "cell_type": "markdown",
      "metadata": {
        "id": "yol4v0VJlgvJ"
      },
      "source": [
        "#### 시리즈 생성"
      ]
    },
    {
      "cell_type": "code",
      "metadata": {
        "id": "sELDSViBlgvJ"
      },
      "source": [
        "\n"
      ],
      "execution_count": null,
      "outputs": []
    },
    {
      "cell_type": "code",
      "metadata": {
        "id": "vFay-ncylgvJ"
      },
      "source": [
        "\n",
        "\n"
      ],
      "execution_count": null,
      "outputs": []
    },
    {
      "cell_type": "code",
      "metadata": {
        "id": "gyIplBqPlgvJ"
      },
      "source": [],
      "execution_count": null,
      "outputs": []
    },
    {
      "cell_type": "markdown",
      "metadata": {
        "id": "CdtyUb0ElgvJ"
      },
      "source": [
        "#### 시리즈 속성\n",
        "- index\n",
        "- value"
      ]
    },
    {
      "cell_type": "code",
      "metadata": {
        "id": "BaswV49rlgvJ"
      },
      "source": [],
      "execution_count": null,
      "outputs": []
    },
    {
      "cell_type": "code",
      "metadata": {
        "id": "qjA0IhQjlgvK"
      },
      "source": [],
      "execution_count": null,
      "outputs": []
    },
    {
      "cell_type": "markdown",
      "metadata": {
        "id": "7mO6ambplgvK"
      },
      "source": [
        "#### 시리즈 인덱싱"
      ]
    },
    {
      "cell_type": "code",
      "metadata": {
        "id": "tAti_mjqlgvK"
      },
      "source": [
        "\n",
        "\n"
      ],
      "execution_count": null,
      "outputs": []
    },
    {
      "cell_type": "code",
      "metadata": {
        "id": "nrg-FH7KlgvK"
      },
      "source": [
        "\n",
        "\n"
      ],
      "execution_count": null,
      "outputs": []
    },
    {
      "cell_type": "markdown",
      "metadata": {
        "id": "ILtimvdKlgvK"
      },
      "source": [
        "#### 요소간 연산"
      ]
    },
    {
      "cell_type": "code",
      "metadata": {
        "id": "54LqkFablgvK"
      },
      "source": [
        "\n"
      ],
      "execution_count": null,
      "outputs": []
    },
    {
      "cell_type": "markdown",
      "source": [
        "#### 시리즈를 데이터프레임으로 변환하기\n",
        "- to_frame()"
      ],
      "metadata": {
        "id": "efg1wpfMVe2b"
      }
    },
    {
      "cell_type": "code",
      "source": [],
      "metadata": {
        "id": "hAdvEIbfVokR"
      },
      "execution_count": null,
      "outputs": []
    },
    {
      "cell_type": "markdown",
      "metadata": {
        "id": "EwEZUJ7dlgvK"
      },
      "source": [
        "### 데이터프레임(DataFrame)\n",
        "- 데이터 프레임은 중첩된 리스트나 딕셔너리를 통해 생성할 수 있다."
      ]
    },
    {
      "cell_type": "code",
      "metadata": {
        "id": "-CsgqlZQlgvL"
      },
      "source": [
        "\n",
        "[['부산광역시', '051', 3364358],['전라남도','061', 1840921],['강원도', '033', 1535530]]\n",
        "\n"
      ],
      "execution_count": null,
      "outputs": []
    },
    {
      "cell_type": "code",
      "metadata": {
        "id": "zZp9xGuclgvL"
      },
      "source": [],
      "execution_count": null,
      "outputs": []
    },
    {
      "cell_type": "code",
      "metadata": {
        "id": "YVQgz_1QlgvL"
      },
      "source": [
        "\n"
      ],
      "execution_count": null,
      "outputs": []
    },
    {
      "cell_type": "code",
      "metadata": {
        "id": "de99K_xflgvL"
      },
      "source": [
        "\n"
      ],
      "execution_count": null,
      "outputs": []
    },
    {
      "cell_type": "code",
      "metadata": {
        "id": "ZqhUWyfJlgvL"
      },
      "source": [],
      "execution_count": null,
      "outputs": []
    },
    {
      "cell_type": "code",
      "metadata": {
        "id": "0cc9c8TYlgvL"
      },
      "source": [],
      "execution_count": null,
      "outputs": []
    },
    {
      "cell_type": "code",
      "source": [],
      "metadata": {
        "id": "G8rv8C7YVO1s"
      },
      "execution_count": null,
      "outputs": []
    },
    {
      "cell_type": "code",
      "metadata": {
        "id": "BL6WR65BlgvM"
      },
      "source": [
        "\n",
        "\n",
        "{'Division':['부산광역시', '전라남도', '강원도'],\n",
        "                  'Code':['051', '061','033'],\n",
        "                  'Population':[3364358, 1840921, 1535530]}\n"
      ],
      "execution_count": null,
      "outputs": []
    },
    {
      "cell_type": "code",
      "metadata": {
        "id": "G1XveIM8lgvM"
      },
      "source": [],
      "execution_count": null,
      "outputs": []
    },
    {
      "cell_type": "code",
      "metadata": {
        "id": "1DC-9N7ZlgvM"
      },
      "source": [],
      "execution_count": null,
      "outputs": []
    },
    {
      "cell_type": "markdown",
      "metadata": {
        "id": "ISchV4ODlgvM"
      },
      "source": [
        "데이터 프레임의 속성\n",
        "- index, values\n",
        "- columns,dtype"
      ]
    },
    {
      "cell_type": "code",
      "source": [],
      "metadata": {
        "id": "EpfXF6Wa-Qis"
      },
      "execution_count": null,
      "outputs": []
    },
    {
      "cell_type": "code",
      "metadata": {
        "id": "QStEkYI7lgvM"
      },
      "source": [],
      "execution_count": null,
      "outputs": []
    },
    {
      "cell_type": "code",
      "metadata": {
        "id": "Y7UzHDWNlgvM"
      },
      "source": [],
      "execution_count": null,
      "outputs": []
    },
    {
      "cell_type": "code",
      "metadata": {
        "id": "kFAiGy3nlgvM"
      },
      "source": [],
      "execution_count": null,
      "outputs": []
    },
    {
      "cell_type": "code",
      "metadata": {
        "id": "BnQ_uGkBlgvN"
      },
      "source": [
        "\n",
        "\n"
      ],
      "execution_count": null,
      "outputs": []
    },
    {
      "cell_type": "code",
      "metadata": {
        "id": "vY_WoiZ4lgvN"
      },
      "source": [],
      "execution_count": null,
      "outputs": []
    },
    {
      "cell_type": "code",
      "metadata": {
        "id": "INhjNbURlgvN"
      },
      "source": [],
      "execution_count": null,
      "outputs": []
    },
    {
      "cell_type": "markdown",
      "metadata": {
        "id": "6LZiQTw2lgvN"
      },
      "source": [
        "#### 데이터 파일 읽어오기"
      ]
    },
    {
      "cell_type": "code",
      "metadata": {
        "id": "woKpQahRlgvO"
      },
      "source": [],
      "execution_count": null,
      "outputs": []
    },
    {
      "cell_type": "markdown",
      "source": [
        "#### 데이터 확인하기"
      ],
      "metadata": {
        "id": "-yv62cLPPiW4"
      }
    },
    {
      "cell_type": "code",
      "metadata": {
        "id": "2JqoqYEClgvO"
      },
      "source": [],
      "execution_count": null,
      "outputs": []
    },
    {
      "cell_type": "code",
      "metadata": {
        "id": "9llV8p-4lgvO"
      },
      "source": [],
      "execution_count": null,
      "outputs": []
    },
    {
      "cell_type": "code",
      "metadata": {
        "id": "eXOfMClclgvO"
      },
      "source": [],
      "execution_count": null,
      "outputs": []
    },
    {
      "cell_type": "code",
      "metadata": {
        "id": "RRwCm-LFlgvO"
      },
      "source": [],
      "execution_count": null,
      "outputs": []
    },
    {
      "cell_type": "code",
      "metadata": {
        "id": "7wfkdRJPlgvP"
      },
      "source": [
        "\n"
      ],
      "execution_count": null,
      "outputs": []
    },
    {
      "cell_type": "code",
      "metadata": {
        "id": "YK-ZzNrrlgvP"
      },
      "source": [],
      "execution_count": null,
      "outputs": []
    },
    {
      "cell_type": "code",
      "metadata": {
        "id": "TyVbLmgilgvP"
      },
      "source": [
        "\n"
      ],
      "execution_count": null,
      "outputs": []
    }
  ]
}