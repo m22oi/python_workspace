{
  "nbformat": 4,
  "nbformat_minor": 0,
  "metadata": {
    "colab": {
      "provenance": [],
      "toc_visible": true,
      "include_colab_link": true
    },
    "kernelspec": {
      "name": "python3",
      "display_name": "Python 3"
    },
    "language_info": {
      "name": "python"
    }
  },
  "cells": [
    {
      "cell_type": "markdown",
      "metadata": {
        "id": "view-in-github",
        "colab_type": "text"
      },
      "source": [
        "<a href=\"https://colab.research.google.com/github/m22oi/python_workspace/blob/main/07_Pandas%EC%9D%98_%EC%82%AC%EB%B3%B8.ipynb\" target=\"_parent\"><img src=\"https://colab.research.google.com/assets/colab-badge.svg\" alt=\"Open In Colab\"/></a>"
      ]
    },
    {
      "cell_type": "markdown",
      "metadata": {
        "id": "yzifbuPkBDtM"
      },
      "source": [
        "## 판다스(Pandas)"
      ]
    },
    {
      "cell_type": "markdown",
      "metadata": {
        "id": "aH4W7Kx5lgvI"
      },
      "source": [
        "### 판다스 라이브러리 가져오기\n",
        "- 외부 패키지이므로 설치하여 사용하여야 하지만 colab에는 기본적으로 설치가 되어있기 때문에 설치할 필요 없이 사용 가능하다.\n",
        "- pandas는 관용적으로 pd라는 별칭을 사용한다."
      ]
    },
    {
      "cell_type": "code",
      "metadata": {
        "id": "RAf7x8PVlgvI"
      },
      "source": [
        "import pandas as pd"
      ],
      "execution_count": null,
      "outputs": []
    },
    {
      "cell_type": "markdown",
      "metadata": {
        "id": "6LZiQTw2lgvN"
      },
      "source": [
        "### 데이터 파일 읽어 데이터프레임 생성하기"
      ]
    },
    {
      "cell_type": "code",
      "source": [
        "# 실수형 데이터를 지수로 표현하지 않기 위한 설정\n",
        "\n",
        "# pd.options.display.float_format = '{:.5f}'.format\n",
        "pd.options.display.float_format ='{:,0f}'.format"
      ],
      "metadata": {
        "id": "GV7orMncoaf-"
      },
      "execution_count": null,
      "outputs": []
    },
    {
      "cell_type": "code",
      "metadata": {
        "id": "woKpQahRlgvO",
        "colab": {
          "base_uri": "https://localhost:8080/",
          "height": 148
        },
        "outputId": "3cc583c4-f422-4ae4-ea8a-d39e45985398"
      },
      "source": [],
      "execution_count": null,
      "outputs": [
        {
          "output_type": "error",
          "ename": "NameError",
          "evalue": "name 'df' is not defined",
          "traceback": [
            "\u001b[0;31m---------------------------------------------------------------------------\u001b[0m",
            "\u001b[0;31mNameError\u001b[0m                                 Traceback (most recent call last)",
            "\u001b[0;32m<ipython-input-5-633337079cd0>\u001b[0m in \u001b[0;36m<cell line: 1>\u001b[0;34m()\u001b[0m\n\u001b[0;32m----> 1\u001b[0;31m \u001b[0mdf\u001b[0m\u001b[0;34m.\u001b[0m\u001b[0mshape\u001b[0m\u001b[0;34m\u001b[0m\u001b[0;34m\u001b[0m\u001b[0m\n\u001b[0m",
            "\u001b[0;31mNameError\u001b[0m: name 'df' is not defined"
          ]
        }
      ]
    },
    {
      "cell_type": "markdown",
      "source": [
        "### 데이터 확인하기"
      ],
      "metadata": {
        "id": "QGxcPCMZPanq"
      }
    },
    {
      "cell_type": "code",
      "metadata": {
        "id": "2JqoqYEClgvO"
      },
      "source": [],
      "execution_count": null,
      "outputs": []
    },
    {
      "cell_type": "code",
      "metadata": {
        "id": "eXOfMClclgvO"
      },
      "source": [
        "#데이터프레임의 데이터 갯수\n",
        "df.shape"
      ],
      "execution_count": null,
      "outputs": []
    },
    {
      "cell_type": "code",
      "metadata": {
        "id": "RRwCm-LFlgvO"
      },
      "source": [
        "#데이터프레임의 열의 갯수\n",
        "df.shape[1]\n",
        "len(df.columns)"
      ],
      "execution_count": null,
      "outputs": []
    },
    {
      "cell_type": "code",
      "source": [
        "# 데이터프레임의 속성 4가지 확인하기\n",
        "df.index"
      ],
      "metadata": {
        "id": "RveXY7C2pYw3"
      },
      "execution_count": null,
      "outputs": []
    },
    {
      "cell_type": "code",
      "source": [
        "df.columns"
      ],
      "metadata": {
        "id": "69PoYABrn0X4"
      },
      "execution_count": null,
      "outputs": []
    },
    {
      "cell_type": "code",
      "source": [
        "df.values"
      ],
      "metadata": {
        "id": "iAiDnp_hn0sl"
      },
      "execution_count": null,
      "outputs": []
    },
    {
      "cell_type": "code",
      "source": [
        "df.dtypes"
      ],
      "metadata": {
        "id": "UtbiYg0XptM6"
      },
      "execution_count": null,
      "outputs": []
    },
    {
      "cell_type": "code",
      "source": [
        "df.info #dtype 확인"
      ],
      "metadata": {
        "id": "lcOb_4ixprsD"
      },
      "execution_count": null,
      "outputs": []
    },
    {
      "cell_type": "code",
      "source": [
        "#기술 통계 요약\n",
        "df.describe() #수치형 데이터만 요약"
      ],
      "metadata": {
        "id": "wfoU5bHRpw-K"
      },
      "execution_count": null,
      "outputs": []
    },
    {
      "cell_type": "code",
      "source": [
        "df['나이'].mode() #최빈값"
      ],
      "metadata": {
        "id": "72ErSKS9oGtl"
      },
      "execution_count": null,
      "outputs": []
    },
    {
      "cell_type": "code",
      "metadata": {
        "id": "7wfkdRJPlgvP"
      },
      "source": [
        "#칼럼별 고유한 값 조회\n",
        "df['국적'].unique()\n"
      ],
      "execution_count": null,
      "outputs": []
    },
    {
      "cell_type": "code",
      "metadata": {
        "id": "YK-ZzNrrlgvP"
      },
      "source": [
        "# 컬럼별 고유한 값의 데이터 수까지 조회\n",
        "df.['국적'].value_counts()\n"
      ],
      "execution_count": null,
      "outputs": []
    },
    {
      "cell_type": "code",
      "metadata": {
        "id": "TyVbLmgilgvP"
      },
      "source": [
        "# 컬럼에 고유 데이터가 몇개인가\n",
        "df.['국적'].nunique()\n"
      ],
      "execution_count": null,
      "outputs": []
    },
    {
      "cell_type": "code",
      "source": [
        "# 키의 기술 통계값을 알고 싶다면\n",
        "df.['키'].mean()\n",
        "#df.['키'].std()\n",
        "#df.['키'].min()\n",
        "#df.['키'].max()\n",
        "#df.['키'].quantile(0.25)\n",
        "#df.['키'].quantile(0.75)\n"
      ],
      "metadata": {
        "id": "1WDp_QQtqzdR"
      },
      "execution_count": null,
      "outputs": []
    },
    {
      "cell_type": "code",
      "source": [
        "df.['키'].median()"
      ],
      "metadata": {
        "id": "0GswjdDrvA-H"
      },
      "execution_count": null,
      "outputs": []
    },
    {
      "cell_type": "markdown",
      "metadata": {
        "id": "3x2yoPtulgvP"
      },
      "source": [
        "### 데이터 가져오기(조회)"
      ]
    },
    {
      "cell_type": "markdown",
      "source": [
        "#### 데이터 일부 가져오기"
      ],
      "metadata": {
        "id": "ve5m1QalSHJw"
      }
    },
    {
      "cell_type": "code",
      "source": [
        "df.head() #앞에서 3개 가져오기"
      ],
      "metadata": {
        "id": "-sPqeAGdSKgT"
      },
      "execution_count": null,
      "outputs": []
    },
    {
      "cell_type": "code",
      "source": [
        "df.tail() #뒤에서 3개 가져오기"
      ],
      "metadata": {
        "id": "qWN9xi-_SRD0"
      },
      "execution_count": null,
      "outputs": []
    },
    {
      "cell_type": "code",
      "source": [],
      "metadata": {
        "id": "qsNlEcRBTkFe"
      },
      "execution_count": null,
      "outputs": []
    },
    {
      "cell_type": "markdown",
      "source": [
        "#### []\n",
        "- 간단히 사용하기엔 좋지만 간혹 헷갈릴수 있으므로 loc,iloc 추천"
      ],
      "metadata": {
        "id": "OSs_elEgshlS"
      }
    },
    {
      "cell_type": "markdown",
      "metadata": {
        "id": "b6rJjxA-lgvP"
      },
      "source": [
        "##### 컬럼명으로 데이터 가져오기\n",
        "- 데이터프레임['컬럼명']\n"
      ]
    },
    {
      "cell_type": "code",
      "metadata": {
        "id": "KXaHLsgSlgvP"
      },
      "source": [
        "df['이름']"
      ],
      "execution_count": null,
      "outputs": []
    },
    {
      "cell_type": "code",
      "metadata": {
        "id": "FI-K69VRlgvP"
      },
      "source": [
        "type(df['이름'])"
      ],
      "execution_count": null,
      "outputs": []
    },
    {
      "cell_type": "code",
      "source": [
        "df['이름'].head() #칼럼 속성"
      ],
      "metadata": {
        "id": "XE3zQYX2CGzG"
      },
      "execution_count": null,
      "outputs": []
    },
    {
      "cell_type": "code",
      "source": [
        "df['이름'].tail()"
      ],
      "metadata": {
        "id": "YjiX-37HCNPo"
      },
      "execution_count": null,
      "outputs": []
    },
    {
      "cell_type": "code",
      "source": [
        "df['이름'].shape"
      ],
      "metadata": {
        "id": "b8WNgnJLCSR5"
      },
      "execution_count": null,
      "outputs": []
    },
    {
      "cell_type": "code",
      "source": [
        "df['이름'].values"
      ],
      "metadata": {
        "id": "V_H7A08lFavn"
      },
      "execution_count": null,
      "outputs": []
    },
    {
      "cell_type": "code",
      "source": [
        "df['이름'.index]"
      ],
      "metadata": {
        "id": "1kGNwncFHihU"
      },
      "execution_count": null,
      "outputs": []
    },
    {
      "cell_type": "code",
      "source": [
        "df.columns[0] #인덱스"
      ],
      "metadata": {
        "id": "mzAENJ_CHfHZ"
      },
      "execution_count": null,
      "outputs": []
    },
    {
      "cell_type": "code",
      "metadata": {
        "id": "CUPXoUMclgvQ"
      },
      "source": [
        "df[df.columns[0]] #특정 내용을 대괄호 안에 얺으면 가져온다"
      ],
      "execution_count": null,
      "outputs": []
    },
    {
      "cell_type": "code",
      "source": [
        "# df['이름','직업'] 오류가 난다.\n",
        "df.[['이름','직업']]\n",
        "#두개 이상이면 리스트로 묶어준다.\n",
        "#시리즈로 가져되었는데, 이제 데이터 프레임으로 가져올 수 있음\n",
        "#데이터 타입, 자료형인지 항상 확인해야 한다."
      ],
      "metadata": {
        "id": "ScEhHnEYDUcB",
        "colab": {
          "base_uri": "https://localhost:8080/",
          "height": 111
        },
        "outputId": "ccbd04d6-e08f-4e25-b092-e28978dff2f6"
      },
      "execution_count": 8,
      "outputs": [
        {
          "output_type": "error",
          "ename": "SyntaxError",
          "evalue": "invalid syntax (<ipython-input-8-6c309fa4d6fe>, line 2)",
          "traceback": [
            "\u001b[0;36m  File \u001b[0;32m\"<ipython-input-8-6c309fa4d6fe>\"\u001b[0;36m, line \u001b[0;32m2\u001b[0m\n\u001b[0;31m    df.[['이름','직업']] #두개 이상이면 리스트로 묶어준다. 시리즈로 가져되었는데, 이제 데이터 프레임으로 가져올 수 있음\u001b[0m\n\u001b[0m       ^\u001b[0m\n\u001b[0;31mSyntaxError\u001b[0m\u001b[0;31m:\u001b[0m invalid syntax\n"
          ]
        }
      ]
    },
    {
      "cell_type": "code",
      "source": [
        "df_name = df[['이름']]"
      ],
      "metadata": {
        "id": "YZg7KqcsDgfK"
      },
      "execution_count": null,
      "outputs": []
    },
    {
      "cell_type": "code",
      "source": [
        "type(df_name) #dataframe 확인"
      ],
      "metadata": {
        "id": "yqTOznOWMZJm"
      },
      "execution_count": null,
      "outputs": []
    },
    {
      "cell_type": "markdown",
      "source": [
        "##### 행단위로 데이터 가져오기\n",
        "- []를 이용하여 행단위로 데이터를 가져오려면 행번호로 슬라이싱한다."
      ],
      "metadata": {
        "id": "DIy4byWAT07Y"
      }
    },
    {
      "cell_type": "code",
      "metadata": {
        "id": "7WRRMDHNlgvQ"
      },
      "source": [
        "#df[0]오류가 난다.\n",
        "df[0:1]"
      ],
      "execution_count": null,
      "outputs": []
    },
    {
      "cell_type": "code",
      "metadata": {
        "id": "YXdmSpQKlgvQ"
      },
      "source": [
        "df[0:4]"
      ],
      "execution_count": null,
      "outputs": []
    },
    {
      "cell_type": "code",
      "source": [
        "df2 = df.copy()\n",
        "df2.index = ['a','b','c','d','e']\n",
        "df2"
      ],
      "metadata": {
        "id": "vcuMq65CEE_9"
      },
      "execution_count": null,
      "outputs": []
    },
    {
      "cell_type": "code",
      "source": [
        "df2['a':'b'] #인덱스로 슬라이싱. 슬라이싱에서 끝번호를 포함되지 않지만, 이름기반에서는 인덱스 끝값까지 가져온다."
      ],
      "metadata": {
        "id": "XuBi_mnUsHJ5"
      },
      "execution_count": null,
      "outputs": []
    },
    {
      "cell_type": "markdown",
      "metadata": {
        "id": "ztnBCawUlgvQ"
      },
      "source": [
        "#### iloc(Positional Indexing) :행번호, 열번호로 데이터 가져오기\n"
      ]
    },
    {
      "cell_type": "markdown",
      "source": [
        "##### 행으로 가져오기\n",
        "- iloc[행번호] : 행 한개\n",
        "- iloc[행번호 리스트] : 행 여러개\n",
        "- iloc[행번호 슬라이스] : 특정 범위의 행 단위 데이터"
      ],
      "metadata": {
        "id": "uEKvYZnRtDKg"
      }
    },
    {
      "cell_type": "code",
      "source": [],
      "metadata": {
        "id": "SX2Kb8dztzG_"
      },
      "execution_count": 5,
      "outputs": []
    },
    {
      "cell_type": "code",
      "source": [],
      "metadata": {
        "id": "0AqK3OpVuCSU"
      },
      "execution_count": 5,
      "outputs": []
    },
    {
      "cell_type": "code",
      "source": [],
      "metadata": {
        "id": "w9kZAMm2uPmV"
      },
      "execution_count": 5,
      "outputs": []
    },
    {
      "cell_type": "code",
      "source": [],
      "metadata": {
        "id": "vvydTUt0ufh9"
      },
      "execution_count": 5,
      "outputs": []
    },
    {
      "cell_type": "code",
      "source": [],
      "metadata": {
        "id": "zS9w7xUJu_zm"
      },
      "execution_count": 5,
      "outputs": []
    },
    {
      "cell_type": "code",
      "source": [],
      "metadata": {
        "id": "Dz58q3lRuoXw"
      },
      "execution_count": 5,
      "outputs": []
    },
    {
      "cell_type": "code",
      "source": [],
      "metadata": {
        "id": "U4koPCZfu3-T"
      },
      "execution_count": 5,
      "outputs": []
    },
    {
      "cell_type": "markdown",
      "source": [
        "##### 행, 열 가져오기\n",
        "- iloc[행번호, 열번호] : 데이터 한개\n",
        "- iloc[행번호 슬라이스, 열번호 슬라이스]: 어떤 범위의 행, 열 데이터를 슬라이싱|"
      ],
      "metadata": {
        "id": "9Un0bJAbv3Aw"
      }
    },
    {
      "cell_type": "code",
      "metadata": {
        "id": "LKd_mpo2lgvQ"
      },
      "source": [],
      "execution_count": 5,
      "outputs": []
    },
    {
      "cell_type": "code",
      "source": [],
      "metadata": {
        "id": "46EB7K-dwHVY"
      },
      "execution_count": 5,
      "outputs": []
    },
    {
      "cell_type": "code",
      "source": [],
      "metadata": {
        "id": "iU0hljRMwHVZ"
      },
      "execution_count": 5,
      "outputs": []
    },
    {
      "cell_type": "code",
      "source": [],
      "metadata": {
        "id": "SxAX8nsmwHVb"
      },
      "execution_count": 5,
      "outputs": []
    },
    {
      "cell_type": "code",
      "source": [],
      "metadata": {
        "id": "xyTBlwomwHVc"
      },
      "execution_count": 5,
      "outputs": []
    },
    {
      "cell_type": "markdown",
      "source": [
        "#### loc(label based Indexing) : 인덱스와 컬럼명으로 데이터 가져오기\n"
      ],
      "metadata": {
        "id": "MrQftTjEhawl"
      }
    },
    {
      "cell_type": "markdown",
      "source": [
        "##### 행으로 가져오기\n",
        "- loc[인덱스] : 행 한개\n",
        "- loc[인덱스리스트] : 행 여러개\n",
        "- loc[인덱스 슬라이스] : 특정 범위의 행 단위 데이터"
      ],
      "metadata": {
        "id": "ORHEyL9Ri-MS"
      }
    },
    {
      "cell_type": "code",
      "source": [],
      "metadata": {
        "id": "dtqoQ046ixHb"
      },
      "execution_count": null,
      "outputs": []
    },
    {
      "cell_type": "code",
      "source": [],
      "metadata": {
        "id": "z-Hz9pfHjHui"
      },
      "execution_count": null,
      "outputs": []
    },
    {
      "cell_type": "code",
      "source": [],
      "metadata": {
        "id": "qOkePv3yjYHU"
      },
      "execution_count": null,
      "outputs": []
    },
    {
      "cell_type": "code",
      "source": [],
      "metadata": {
        "id": "Bxko73f-jo4Y"
      },
      "execution_count": null,
      "outputs": []
    },
    {
      "cell_type": "code",
      "source": [],
      "metadata": {
        "id": "Xkc9Q4Tqjs00"
      },
      "execution_count": null,
      "outputs": []
    },
    {
      "cell_type": "code",
      "source": [],
      "metadata": {
        "id": "PSgWkvSfj_nO"
      },
      "execution_count": null,
      "outputs": []
    },
    {
      "cell_type": "code",
      "source": [],
      "metadata": {
        "id": "NX9eK65sk9Xg"
      },
      "execution_count": null,
      "outputs": []
    },
    {
      "cell_type": "markdown",
      "source": [
        "##### 행, 열 가져오기\n",
        "- loc[인덱스, 컬럼명] : 데이터 한개\n",
        "- loc[인덱스 슬라이스, 컬러명 슬라이스]: 어떤 범위의 행, 열 데이터를 슬라이싱"
      ],
      "metadata": {
        "id": "S4EnJpHVk1B6"
      }
    },
    {
      "cell_type": "code",
      "source": [],
      "metadata": {
        "id": "qXumkMsLlPb9"
      },
      "execution_count": null,
      "outputs": []
    },
    {
      "cell_type": "code",
      "source": [],
      "metadata": {
        "id": "wEe5NfWSlw2d"
      },
      "execution_count": null,
      "outputs": []
    },
    {
      "cell_type": "code",
      "source": [],
      "metadata": {
        "id": "2-XNQLQZmSET"
      },
      "execution_count": null,
      "outputs": []
    },
    {
      "cell_type": "code",
      "source": [],
      "metadata": {
        "id": "II0bzi2Smd5r"
      },
      "execution_count": null,
      "outputs": []
    },
    {
      "cell_type": "code",
      "source": [],
      "metadata": {
        "id": "1hDsmQnIm_6A"
      },
      "execution_count": null,
      "outputs": []
    },
    {
      "cell_type": "code",
      "source": [],
      "metadata": {
        "id": "ROpEwLJqsCrR"
      },
      "execution_count": null,
      "outputs": []
    },
    {
      "cell_type": "markdown",
      "source": [
        "#### 조건에 따라 데이터 가져오기"
      ],
      "metadata": {
        "id": "nCffb85eaDKj"
      }
    },
    {
      "cell_type": "markdown",
      "source": [
        "##### 특정 값을 가진 데이터 가져오기\n",
        "- 컬럼명.isin([데이터리스트])"
      ],
      "metadata": {
        "id": "rMpOLeSetd1S"
      }
    },
    {
      "cell_type": "code",
      "source": [],
      "metadata": {
        "id": "hRr-Ept7tyU2"
      },
      "execution_count": null,
      "outputs": []
    },
    {
      "cell_type": "markdown",
      "source": [
        "- str함수를 이용"
      ],
      "metadata": {
        "id": "81B11upDLHPg"
      }
    },
    {
      "cell_type": "code",
      "source": [],
      "metadata": {
        "id": "oXVh82EU6sgi"
      },
      "execution_count": null,
      "outputs": []
    },
    {
      "cell_type": "code",
      "source": [],
      "metadata": {
        "id": "wXq21unq7H5c"
      },
      "execution_count": null,
      "outputs": []
    },
    {
      "cell_type": "code",
      "source": [],
      "metadata": {
        "id": "vw47mfuG7QFo"
      },
      "execution_count": null,
      "outputs": []
    },
    {
      "cell_type": "code",
      "source": [],
      "metadata": {
        "id": "3PoJy_aYDFBY"
      },
      "execution_count": null,
      "outputs": []
    },
    {
      "cell_type": "code",
      "source": [],
      "metadata": {
        "id": "h6z29V0WJvxf"
      },
      "execution_count": null,
      "outputs": []
    },
    {
      "cell_type": "code",
      "source": [],
      "metadata": {
        "id": "uH_cK6EMDU37"
      },
      "execution_count": null,
      "outputs": []
    },
    {
      "cell_type": "markdown",
      "source": [
        "##### 값이 null인 데이터 가져오기\n",
        "- 컬럼명.isnull() :컬럼의 데이터중에서 null이면 True, 아니면 False를 반환하는 불리언 인덱스를 결과로 준다."
      ],
      "metadata": {
        "id": "7ZQZXB_zvY5P"
      }
    },
    {
      "cell_type": "code",
      "metadata": {
        "id": "l1OaCf-xlgvc"
      },
      "source": [],
      "execution_count": null,
      "outputs": []
    },
    {
      "cell_type": "code",
      "source": [],
      "metadata": {
        "id": "zw9hxF6Sywls"
      },
      "execution_count": null,
      "outputs": []
    },
    {
      "cell_type": "code",
      "source": [],
      "metadata": {
        "id": "30LStyAvyMY5"
      },
      "execution_count": null,
      "outputs": []
    },
    {
      "cell_type": "code",
      "metadata": {
        "id": "u2pg3dUwlgvY"
      },
      "source": [],
      "execution_count": null,
      "outputs": []
    },
    {
      "cell_type": "code",
      "metadata": {
        "id": "KH-_iOR8lgvY"
      },
      "source": [],
      "execution_count": null,
      "outputs": []
    },
    {
      "cell_type": "code",
      "metadata": {
        "id": "D7U4e8NJlgvY"
      },
      "source": [],
      "execution_count": null,
      "outputs": []
    },
    {
      "cell_type": "code",
      "metadata": {
        "id": "a05_1cWmlgvY"
      },
      "source": [],
      "execution_count": null,
      "outputs": []
    },
    {
      "cell_type": "code",
      "metadata": {
        "id": "GoSuEnaTlgvc"
      },
      "source": [],
      "execution_count": null,
      "outputs": []
    },
    {
      "cell_type": "markdown",
      "source": [
        "##### 불리언 인덱싱\n",
        "- 조건을 제시하고 조건이 True인 요소만을 조회하는 방식"
      ],
      "metadata": {
        "id": "1E5107nKbSaJ"
      }
    },
    {
      "cell_type": "markdown",
      "source": [
        "(1) []를 이용한 불리언 인덱싱"
      ],
      "metadata": {
        "id": "ZfEfBys814dB"
      }
    },
    {
      "cell_type": "code",
      "metadata": {
        "id": "wVZ-HTazlgvR"
      },
      "source": [],
      "execution_count": null,
      "outputs": []
    },
    {
      "cell_type": "code",
      "metadata": {
        "id": "rLbs6fUKlgvR"
      },
      "source": [],
      "execution_count": null,
      "outputs": []
    },
    {
      "cell_type": "code",
      "metadata": {
        "id": "ZdCbntuglgvS"
      },
      "source": [],
      "execution_count": null,
      "outputs": []
    },
    {
      "cell_type": "code",
      "source": [],
      "metadata": {
        "id": "pzM_dwyXagj0"
      },
      "execution_count": null,
      "outputs": []
    },
    {
      "cell_type": "code",
      "metadata": {
        "id": "QWgCLkNklgvS"
      },
      "source": [],
      "execution_count": null,
      "outputs": []
    },
    {
      "cell_type": "code",
      "metadata": {
        "id": "XAggQQ6LlgvS"
      },
      "source": [],
      "execution_count": null,
      "outputs": []
    },
    {
      "cell_type": "code",
      "source": [],
      "metadata": {
        "id": "prE5rWl86bpu"
      },
      "execution_count": null,
      "outputs": []
    },
    {
      "cell_type": "code",
      "source": [],
      "metadata": {
        "id": "j9yZaN7GbgZP"
      },
      "execution_count": null,
      "outputs": []
    },
    {
      "cell_type": "markdown",
      "source": [
        "(2) loc를 이용한 불리언 인덱싱"
      ],
      "metadata": {
        "id": "EM1nRRlQ2H3T"
      }
    },
    {
      "cell_type": "code",
      "source": [],
      "metadata": {
        "id": "yhiX042-bw-k"
      },
      "execution_count": null,
      "outputs": []
    },
    {
      "cell_type": "code",
      "source": [],
      "metadata": {
        "id": "Fvdcx__C5QsR"
      },
      "execution_count": null,
      "outputs": []
    },
    {
      "cell_type": "markdown",
      "source": [
        "### 데이터 정렬하기"
      ],
      "metadata": {
        "id": "jQVD_SbXZTRT"
      }
    },
    {
      "cell_type": "code",
      "source": [],
      "metadata": {
        "id": "i07BesqzegiM"
      },
      "execution_count": null,
      "outputs": []
    },
    {
      "cell_type": "code",
      "source": [],
      "metadata": {
        "id": "7fpginJhewu6"
      },
      "execution_count": null,
      "outputs": []
    },
    {
      "cell_type": "code",
      "source": [],
      "metadata": {
        "id": "43hHjUGMjBml"
      },
      "execution_count": null,
      "outputs": []
    },
    {
      "cell_type": "code",
      "source": [],
      "metadata": {
        "id": "H12fZyGdlTWP"
      },
      "execution_count": null,
      "outputs": []
    },
    {
      "cell_type": "code",
      "source": [],
      "metadata": {
        "id": "9vCRtvRunkZz"
      },
      "execution_count": null,
      "outputs": []
    },
    {
      "cell_type": "code",
      "source": [],
      "metadata": {
        "id": "JXa7mUV5nruA"
      },
      "execution_count": null,
      "outputs": []
    },
    {
      "cell_type": "code",
      "source": [],
      "metadata": {
        "id": "wVIMm2uVpZiH"
      },
      "execution_count": null,
      "outputs": []
    },
    {
      "cell_type": "code",
      "source": [],
      "metadata": {
        "id": "LSWKRpjzpnsP"
      },
      "execution_count": null,
      "outputs": []
    },
    {
      "cell_type": "code",
      "source": [],
      "metadata": {
        "id": "1MwSQBGJpyOJ"
      },
      "execution_count": null,
      "outputs": []
    },
    {
      "cell_type": "markdown",
      "source": [
        "### 데이터 수정 또는 추가하기\n"
      ],
      "metadata": {
        "id": "afTzQVaA4C8W"
      }
    },
    {
      "cell_type": "markdown",
      "source": [
        "#### 행 데이터 수정 또는 추가하기\n",
        "- 데이터프레임.append(추가할 데이터, ignore_index=True)\n",
        "- 데이터프레임.loc[인덱스] = 데이터\n"
      ],
      "metadata": {
        "id": "KnmPTFFnAg5j"
      }
    },
    {
      "cell_type": "code",
      "source": [],
      "metadata": {
        "id": "HqnMmMb2BEnW"
      },
      "execution_count": null,
      "outputs": []
    },
    {
      "cell_type": "code",
      "source": [],
      "metadata": {
        "id": "4qARyRIhBoQ0"
      },
      "execution_count": null,
      "outputs": []
    },
    {
      "cell_type": "code",
      "source": [],
      "metadata": {
        "id": "3ruWbTxWEt5T"
      },
      "execution_count": null,
      "outputs": []
    },
    {
      "cell_type": "markdown",
      "source": [
        "#### 열 데이터 수정 또는 추가하기\n",
        "- 데이터프레임['컬럼명'] = 데이터\n",
        "- 컬럼이 존재하면 수정되고 존재하지 않는다면 추가된다."
      ],
      "metadata": {
        "id": "XBGIaZLs9FmF"
      }
    },
    {
      "cell_type": "code",
      "source": [],
      "metadata": {
        "id": "l72ZvYndsyp3"
      },
      "execution_count": null,
      "outputs": []
    },
    {
      "cell_type": "code",
      "source": [],
      "metadata": {
        "id": "cR8nq19fs1qR"
      },
      "execution_count": null,
      "outputs": []
    },
    {
      "cell_type": "code",
      "source": [],
      "metadata": {
        "id": "Uk7aXNIruAJ3"
      },
      "execution_count": null,
      "outputs": []
    },
    {
      "cell_type": "code",
      "source": [],
      "metadata": {
        "id": "72pMVQ7vr0LL"
      },
      "execution_count": null,
      "outputs": []
    },
    {
      "cell_type": "code",
      "source": [],
      "metadata": {
        "id": "zeve-BJG9Pyz"
      },
      "execution_count": null,
      "outputs": []
    },
    {
      "cell_type": "code",
      "source": [],
      "metadata": {
        "id": "jVCdeZzy98ZV"
      },
      "execution_count": null,
      "outputs": []
    },
    {
      "cell_type": "markdown",
      "source": [
        "#### 컬럼명 바꾸기"
      ],
      "metadata": {
        "id": "ZpDyCd8e3FWi"
      }
    },
    {
      "cell_type": "code",
      "source": [],
      "metadata": {
        "id": "IyAJ6KqhwHcK"
      },
      "execution_count": null,
      "outputs": []
    },
    {
      "cell_type": "code",
      "source": [],
      "metadata": {
        "id": "NZxmjDHT3Q1o"
      },
      "execution_count": null,
      "outputs": []
    },
    {
      "cell_type": "code",
      "source": [],
      "metadata": {
        "id": "ZKgx_Qrk3--s"
      },
      "execution_count": null,
      "outputs": []
    },
    {
      "cell_type": "markdown",
      "metadata": {
        "id": "Aj2Ql33ClgvS"
      },
      "source": [
        "### 데이터 삭제\n",
        "- 없는 인덱스 또는 칼럼명을 삭제하려고 하면 에러 발생\n",
        "- 원본에서 삭제하려면 inplace=True또는 df에 다시 할당"
      ]
    },
    {
      "cell_type": "markdown",
      "metadata": {
        "id": "DFX84ZgklgvT"
      },
      "source": [
        "#### 행(row) 삭제\n",
        "- 데이터프레임.drop(행번호 또는 인덱스, axis = 0)\n",
        "- 데이터프레임.drop(index = 삭제할 인덱스 리스트, inplace = True)"
      ]
    },
    {
      "cell_type": "code",
      "source": [],
      "metadata": {
        "id": "NEzKTq_lYiEb"
      },
      "execution_count": null,
      "outputs": []
    },
    {
      "cell_type": "code",
      "metadata": {
        "id": "wyswz1STlgvT"
      },
      "source": [],
      "execution_count": null,
      "outputs": []
    },
    {
      "cell_type": "code",
      "source": [],
      "metadata": {
        "id": "Uo-XmgG38A6j"
      },
      "execution_count": null,
      "outputs": []
    },
    {
      "cell_type": "code",
      "metadata": {
        "id": "5Q78DG_5lgvT"
      },
      "source": [],
      "execution_count": null,
      "outputs": []
    },
    {
      "cell_type": "code",
      "source": [],
      "metadata": {
        "id": "JLjnFkUK6-2n"
      },
      "execution_count": null,
      "outputs": []
    },
    {
      "cell_type": "markdown",
      "metadata": {
        "id": "d_JnYa7mlgvT"
      },
      "source": [
        "#### 열(column) 삭제\n",
        "- 데이터프레임.drop('컬럼명', axis = 1)\n",
        "- 데이터프레임.drop(columns = 삭제할 컬럼 리스트, inplace=True)"
      ]
    },
    {
      "cell_type": "code",
      "source": [],
      "metadata": {
        "id": "MXf7JPg2lF4b"
      },
      "execution_count": null,
      "outputs": []
    },
    {
      "cell_type": "code",
      "metadata": {
        "id": "ewaVWLJilgvT"
      },
      "source": [],
      "execution_count": null,
      "outputs": []
    },
    {
      "cell_type": "code",
      "metadata": {
        "id": "34O7bYKQlgvU"
      },
      "source": [],
      "execution_count": null,
      "outputs": []
    },
    {
      "cell_type": "code",
      "source": [],
      "metadata": {
        "id": "fKV4330dl8jt"
      },
      "execution_count": null,
      "outputs": []
    },
    {
      "cell_type": "code",
      "source": [],
      "metadata": {
        "id": "7kPsvWGD6jRy"
      },
      "execution_count": null,
      "outputs": []
    },
    {
      "cell_type": "markdown",
      "source": [
        "#### 결측치 삭제\n",
        "- dropna()\n",
        "- dropna(axis=1)"
      ],
      "metadata": {
        "id": "y3ptwVVQHRwS"
      }
    },
    {
      "cell_type": "code",
      "source": [],
      "metadata": {
        "id": "FvVVAdDmLbRu"
      },
      "execution_count": null,
      "outputs": []
    },
    {
      "cell_type": "code",
      "metadata": {
        "id": "Lx4subHNlgvU"
      },
      "source": [
        "\n"
      ],
      "execution_count": null,
      "outputs": []
    },
    {
      "cell_type": "code",
      "source": [],
      "metadata": {
        "id": "_sg16mYpmSib"
      },
      "execution_count": null,
      "outputs": []
    },
    {
      "cell_type": "code",
      "metadata": {
        "id": "3_zURlLzlgvU"
      },
      "source": [],
      "execution_count": null,
      "outputs": []
    },
    {
      "cell_type": "markdown",
      "source": [
        "### 결측치 처리하기"
      ],
      "metadata": {
        "id": "99jf1yECBBcA"
      }
    },
    {
      "cell_type": "markdown",
      "source": [
        "#### 결측치 데이터 조회\n",
        "- info()\n",
        "- isnull()"
      ],
      "metadata": {
        "id": "udcNjT5EBHcV"
      }
    },
    {
      "cell_type": "code",
      "source": [],
      "metadata": {
        "id": "1qWTcpuoBQZq"
      },
      "execution_count": null,
      "outputs": []
    },
    {
      "cell_type": "code",
      "source": [],
      "metadata": {
        "id": "FsMjD5ZsBUFQ"
      },
      "execution_count": null,
      "outputs": []
    },
    {
      "cell_type": "markdown",
      "source": [
        "#### 결측치 처리\n",
        "- 빈값 제거 : dropna()\n",
        "- 특정값으로 채우기 : fillna(특정값)\n",
        "- 주변 값으로 채우기 : fillna(method= bfill) 또는 fillna(method=ffill)"
      ],
      "metadata": {
        "id": "kwlkmm8_wQiA"
      }
    },
    {
      "cell_type": "code",
      "source": [],
      "metadata": {
        "id": "8zcSMoY0IDsq"
      },
      "execution_count": null,
      "outputs": []
    },
    {
      "cell_type": "code",
      "metadata": {
        "id": "40N4wZOEwQiB"
      },
      "source": [],
      "execution_count": null,
      "outputs": []
    },
    {
      "cell_type": "code",
      "source": [],
      "metadata": {
        "id": "33TBY3GGMnjB"
      },
      "execution_count": null,
      "outputs": []
    },
    {
      "cell_type": "code",
      "source": [],
      "metadata": {
        "id": "ducbI3VeH96v"
      },
      "execution_count": null,
      "outputs": []
    },
    {
      "cell_type": "code",
      "source": [],
      "metadata": {
        "id": "XnPHXDo1IO4A"
      },
      "execution_count": null,
      "outputs": []
    },
    {
      "cell_type": "code",
      "source": [],
      "metadata": {
        "id": "ECaOaoMKcLcR"
      },
      "execution_count": null,
      "outputs": []
    },
    {
      "cell_type": "code",
      "source": [],
      "metadata": {
        "id": "UrAyT_n7KLlD"
      },
      "execution_count": null,
      "outputs": []
    },
    {
      "cell_type": "markdown",
      "source": [
        "#### 그룹별 데이터 집계하기\n",
        "- groupby('컬럼명').통계함수()"
      ],
      "metadata": {
        "id": "pVFe45NI8y_e"
      }
    },
    {
      "cell_type": "code",
      "source": [],
      "metadata": {
        "id": "7ECYLEo_CxcJ"
      },
      "execution_count": null,
      "outputs": []
    },
    {
      "cell_type": "code",
      "source": [],
      "metadata": {
        "id": "fKbyhS5xDAQK"
      },
      "execution_count": null,
      "outputs": []
    },
    {
      "cell_type": "code",
      "source": [],
      "metadata": {
        "id": "1RG4LgG7EE-B"
      },
      "execution_count": null,
      "outputs": []
    },
    {
      "cell_type": "code",
      "source": [],
      "metadata": {
        "id": "-sbSgO2QDfoL"
      },
      "execution_count": null,
      "outputs": []
    },
    {
      "cell_type": "markdown",
      "source": [
        "#### 함수 적용하기\n",
        "- 데이터프레임에 함수를 일괄적으로 적용\n",
        "- 데이터프레임['컬럼명'].apply(함수명)\n",
        "- 데이터프레임.apply(함수명)"
      ],
      "metadata": {
        "id": "YiDgvzSe8Ky-"
      }
    },
    {
      "cell_type": "code",
      "source": [],
      "metadata": {
        "id": "zmLD_BJ6-n-8"
      },
      "execution_count": null,
      "outputs": []
    },
    {
      "cell_type": "code",
      "source": [],
      "metadata": {
        "id": "mRy9lvGqTPiI"
      },
      "execution_count": null,
      "outputs": []
    },
    {
      "cell_type": "code",
      "source": [],
      "metadata": {
        "id": "GwUBo4taTfs6"
      },
      "execution_count": null,
      "outputs": []
    },
    {
      "cell_type": "code",
      "source": [],
      "metadata": {
        "id": "T8HYR7gtYhHW"
      },
      "execution_count": null,
      "outputs": []
    },
    {
      "cell_type": "markdown",
      "source": [
        "# 개봉한 한국 영화 관련 데이터 파일 전처리하기\n",
        "- 데이터 출처 : 영화관입장권통합전산망(kofic KOBIS)  \n"
      ],
      "metadata": {
        "id": "apln5pePwwws"
      }
    },
    {
      "cell_type": "markdown",
      "source": [
        "## 데이터프레임 생성하기"
      ],
      "metadata": {
        "id": "tHs3qHQ9weSS"
      }
    },
    {
      "cell_type": "code",
      "source": [
        "# 파일 읽어서 데이터 프레임 생성하기\n"
      ],
      "metadata": {
        "id": "dujjgYdXbAzr"
      },
      "execution_count": null,
      "outputs": []
    },
    {
      "cell_type": "markdown",
      "source": [
        "## 데이터 정보 확인하기"
      ],
      "metadata": {
        "id": "9LQKLw59wkLC"
      }
    },
    {
      "cell_type": "code",
      "source": [
        "#데이터프레임의 종합 정보 확인\n"
      ],
      "metadata": {
        "id": "WA4MuVMzbkB-"
      },
      "execution_count": null,
      "outputs": []
    },
    {
      "cell_type": "code",
      "source": [],
      "metadata": {
        "id": "Xi9a68_oc0Xw"
      },
      "execution_count": null,
      "outputs": []
    },
    {
      "cell_type": "code",
      "source": [
        "# # 관측치 수는?\n",
        "# 컬럼수는?\n",
        "# 결측치는?\n",
        "# 각 특성의 타입은 적절한가?"
      ],
      "metadata": {
        "id": "w-7Yz7Ijbj_h"
      },
      "execution_count": null,
      "outputs": []
    },
    {
      "cell_type": "code",
      "source": [
        "# 어떤 장르의 영화가 개봉했을까?"
      ],
      "metadata": {
        "id": "aMTx5ADsbj8n"
      },
      "execution_count": null,
      "outputs": []
    },
    {
      "cell_type": "markdown",
      "source": [
        "## 데이터 전처리하기"
      ],
      "metadata": {
        "id": "vJ378Kz-zcnk"
      }
    },
    {
      "cell_type": "markdown",
      "source": [
        "### 순번을 인덱스로 사용하기"
      ],
      "metadata": {
        "id": "IuvdT0zNwqD3"
      }
    },
    {
      "cell_type": "code",
      "source": [],
      "metadata": {
        "id": "JWaLV1hXygJA"
      },
      "execution_count": null,
      "outputs": []
    },
    {
      "cell_type": "markdown",
      "source": [
        "### 불필요한 컬럼 삭제하기\n",
        "- 제작사, 수입사, 배급사, 서울 매출액, 서울 관객수"
      ],
      "metadata": {
        "id": "Qpm7V1uUw-cX"
      }
    },
    {
      "cell_type": "code",
      "source": [],
      "metadata": {
        "id": "rNbSX0PPy7Pb"
      },
      "execution_count": null,
      "outputs": []
    },
    {
      "cell_type": "code",
      "source": [],
      "metadata": {
        "id": "tIokiNxMlOvn"
      },
      "execution_count": null,
      "outputs": []
    },
    {
      "cell_type": "code",
      "source": [],
      "metadata": {
        "id": "MFBIx2Zwlqax"
      },
      "execution_count": null,
      "outputs": []
    },
    {
      "cell_type": "code",
      "source": [],
      "metadata": {
        "id": "HpHO7ZGYlpjo"
      },
      "execution_count": null,
      "outputs": []
    },
    {
      "cell_type": "code",
      "source": [],
      "metadata": {
        "id": "M9DUt7oHl6v9"
      },
      "execution_count": null,
      "outputs": []
    },
    {
      "cell_type": "markdown",
      "source": [
        "### 컬럼명 변경하기"
      ],
      "metadata": {
        "id": "QaQbwdh-xXq3"
      }
    },
    {
      "cell_type": "code",
      "source": [],
      "metadata": {
        "id": "E7WlU74ymjDI"
      },
      "execution_count": null,
      "outputs": []
    },
    {
      "cell_type": "markdown",
      "source": [
        "##데이터 분석하기"
      ],
      "metadata": {
        "id": "akjQMDOmzodX"
      }
    },
    {
      "cell_type": "markdown",
      "source": [
        "### 최다 관객 영화는 무엇인가?(2024년 8월 6일 기준)"
      ],
      "metadata": {
        "id": "aBxdmdSrxc3h"
      }
    },
    {
      "cell_type": "code",
      "source": [],
      "metadata": {
        "id": "5RQCacMnqBSV"
      },
      "execution_count": null,
      "outputs": []
    },
    {
      "cell_type": "code",
      "source": [],
      "metadata": {
        "id": "2HUhGMIAQJuL"
      },
      "execution_count": null,
      "outputs": []
    },
    {
      "cell_type": "code",
      "source": [],
      "metadata": {
        "id": "a9g1zcvMdkxv"
      },
      "execution_count": null,
      "outputs": []
    },
    {
      "cell_type": "markdown",
      "source": [
        "### 제일 최근 개봉 영화는?"
      ],
      "metadata": {
        "id": "NFtV1IphyAb6"
      }
    },
    {
      "cell_type": "code",
      "source": [],
      "metadata": {
        "id": "wHFgF5g8do3r"
      },
      "execution_count": null,
      "outputs": []
    },
    {
      "cell_type": "code",
      "source": [],
      "metadata": {
        "id": "BmCPFC6pdouR"
      },
      "execution_count": null,
      "outputs": []
    },
    {
      "cell_type": "code",
      "source": [],
      "metadata": {
        "id": "yL5BUBiydorK"
      },
      "execution_count": null,
      "outputs": []
    },
    {
      "cell_type": "markdown",
      "source": [
        "### 최다 연출 감독은 누구인가?"
      ],
      "metadata": {
        "id": "DbDLbf7_yFb9"
      }
    },
    {
      "cell_type": "code",
      "source": [],
      "metadata": {
        "id": "-GOKSkkwdrnr"
      },
      "execution_count": null,
      "outputs": []
    },
    {
      "cell_type": "code",
      "source": [],
      "metadata": {
        "id": "04aSzoL6drjf"
      },
      "execution_count": null,
      "outputs": []
    },
    {
      "cell_type": "markdown",
      "source": [
        "### 관객이 선호하는 영화 장르 Top5 ?"
      ],
      "metadata": {
        "id": "arTz5YoExtLh"
      }
    },
    {
      "cell_type": "code",
      "source": [],
      "metadata": {
        "id": "S7hMCirJdua4"
      },
      "execution_count": null,
      "outputs": []
    },
    {
      "cell_type": "markdown",
      "source": [
        "### 장르별 영화 수는?"
      ],
      "metadata": {
        "id": "DJlONJcbyJ0I"
      }
    },
    {
      "cell_type": "code",
      "source": [],
      "metadata": {
        "id": "qDMzWha8dwtR"
      },
      "execution_count": null,
      "outputs": []
    },
    {
      "cell_type": "markdown",
      "source": [
        "### 스릴러 영화 9편 정보 알아내기"
      ],
      "metadata": {
        "id": "7H1lq_KMyUyH"
      }
    },
    {
      "cell_type": "code",
      "source": [],
      "metadata": {
        "id": "vYtKn-WpeDtx"
      },
      "execution_count": null,
      "outputs": []
    },
    {
      "cell_type": "code",
      "source": [],
      "metadata": {
        "id": "3gGM6uxkeDpc"
      },
      "execution_count": null,
      "outputs": []
    },
    {
      "cell_type": "code",
      "source": [
        "#스릴러 영화를 최근 개봉작 순서대로 나열하기\n"
      ],
      "metadata": {
        "id": "QWNYZj8Vt3Tg"
      },
      "execution_count": null,
      "outputs": []
    },
    {
      "cell_type": "markdown",
      "source": [
        "### 최다 관객수 영화 Top5"
      ],
      "metadata": {
        "id": "DU0aQ6WayehL"
      }
    },
    {
      "cell_type": "code",
      "source": [],
      "metadata": {
        "id": "CFjsOBsJeFzB"
      },
      "execution_count": null,
      "outputs": []
    },
    {
      "cell_type": "markdown",
      "source": [
        "### 최저 관객 영화 Top5"
      ],
      "metadata": {
        "id": "XjbTDnmnyrPM"
      }
    },
    {
      "cell_type": "code",
      "source": [],
      "metadata": {
        "id": "jLu0lPwpeHdn"
      },
      "execution_count": null,
      "outputs": []
    },
    {
      "cell_type": "markdown",
      "source": [
        "### 질문 3개\n",
        "- 질문 3개를 만들고, 답 찾기"
      ],
      "metadata": {
        "id": "A5Nv7fzuHXUa"
      }
    },
    {
      "cell_type": "code",
      "source": [],
      "metadata": {
        "id": "PT0yVLHNP92k"
      },
      "execution_count": null,
      "outputs": []
    },
    {
      "cell_type": "code",
      "source": [],
      "metadata": {
        "id": "IfZX3VbneK_8"
      },
      "execution_count": null,
      "outputs": []
    },
    {
      "cell_type": "code",
      "source": [],
      "metadata": {
        "id": "gezbXt-LeK83"
      },
      "execution_count": null,
      "outputs": []
    }
  ]
}